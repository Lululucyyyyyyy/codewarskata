{
 "cells": [
  {
   "cell_type": "code",
   "execution_count": 26,
   "metadata": {},
   "outputs": [],
   "source": [
    "def cities(a, b, c, d):\n",
    "    distances = [a, b, c, d]\n",
    "    answer = ' '\n",
    "    for town in range(5):\n",
    "        string = ''\n",
    "        for i in range(town)[::-1]:\n",
    "            y = 0\n",
    "            index = town\n",
    "            for k in range(i):\n",
    "                index -= 1\n",
    "                y += distances[index]\n",
    "            string += str(y)\n",
    "            string += ' '\n",
    "        for j in range(5-town):\n",
    "            x = 0\n",
    "            index = town - 1\n",
    "            for k in range(j):\n",
    "                index += 1\n",
    "                x += distances[index]\n",
    "            string += str(x)\n",
    "            string += ' '\n",
    "        answer += string\n",
    "        answer += '/n'\n",
    "    return answer"
   ]
  },
  {
   "cell_type": "code",
   "execution_count": 27,
   "metadata": {},
   "outputs": [
    {
     "data": {
      "text/plain": [
       "' 0 3 13 25 30 /n0 0 10 22 27 /n10 0 0 12 17 /n22 12 0 0 5 /n27 17 5 0 0 /n'"
      ]
     },
     "execution_count": 27,
     "metadata": {},
     "output_type": "execute_result"
    }
   ],
   "source": [
    "cities(3, 10, 12, 5)"
   ]
  },
  {
   "cell_type": "code",
   "execution_count": 84,
   "metadata": {},
   "outputs": [],
   "source": [
    "def cities(s):\n",
    "    s = '0 ' + s\n",
    "    arr = s.split()\n",
    "    arr = list(map(lambda x: int(x)))\n",
    "    n = len(arr)\n",
    "    \n",
    "    res = []\n",
    "    \n",
    "    for i in range(len(arr)):\n",
    "        curr_res = [int(arr[i])]\n",
    "        curr_sum = 0\n",
    "        for j in range(1, len(arr)):\n",
    "            distance = abs(arr[i] - arr[j])\n",
    "            curr_res.append(distance)\n",
    "            \n",
    "        res.append(curr_res)\n",
    "    return res"
   ]
  },
  {
   "cell_type": "code",
   "execution_count": 85,
   "metadata": {},
   "outputs": [
    {
     "name": "stdout",
     "output_type": "stream",
     "text": [
      "[[0, 3, 10, 12, 5], [3, 0, 7, 9, 2], [10, 7, 0, 2, 5], [12, 9, 2, 0, 7], [5, 2, 5, 7, 0]]\n"
     ]
    }
   ],
   "source": [
    "print(cities('3 10 12 5'))"
   ]
  },
  {
   "cell_type": "code",
   "execution_count": null,
   "metadata": {},
   "outputs": [],
   "source": []
  }
 ],
 "metadata": {
  "kernelspec": {
   "display_name": "Python 3",
   "language": "python",
   "name": "python3"
  },
  "language_info": {
   "codemirror_mode": {
    "name": "ipython",
    "version": 3
   },
   "file_extension": ".py",
   "mimetype": "text/x-python",
   "name": "python",
   "nbconvert_exporter": "python",
   "pygments_lexer": "ipython3",
   "version": "3.7.1"
  }
 },
 "nbformat": 4,
 "nbformat_minor": 2
}
