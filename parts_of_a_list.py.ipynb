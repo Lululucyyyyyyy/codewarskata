{
 "cells": [
  {
   "cell_type": "code",
   "execution_count": null,
   "metadata": {},
   "outputs": [],
   "source": [
    "def partlist(arr):\n",
    "    # your code\n",
    "    num = len(arr)\n",
    "    parts = ()\n",
    "    answers = []\n",
    "    for i in range(num)[1:]:\n",
    "        part1 = \" \".join(arr[:i])\n",
    "        part2 = \" \".join(arr[i:])\n",
    "        parts = (part1, part2)\n",
    "        answers.append(parts)\n",
    "    return answers\n",
    "    "
   ]
  }
 ],
 "metadata": {
  "kernelspec": {
   "display_name": "Python 3",
   "language": "python",
   "name": "python3"
  },
  "language_info": {
   "codemirror_mode": {
    "name": "ipython",
    "version": 3
   },
   "file_extension": ".py",
   "mimetype": "text/x-python",
   "name": "python",
   "nbconvert_exporter": "python",
   "pygments_lexer": "ipython3",
   "version": "3.7.1"
  }
 },
 "nbformat": 4,
 "nbformat_minor": 2
}
